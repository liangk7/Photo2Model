{
 "cells": [
  {
   "cell_type": "markdown",
   "metadata": {},
   "source": [
    "# Photo 2 Model Project"
   ]
  },
  {
   "cell_type": "markdown",
   "metadata": {},
   "source": [
    "## Motivation\n",
    "With the development of the digital age, an abundance of media in a 2D form have arose (writing, images, videos, etc). But as society progresses further into fields of AI and VR, a massive shift will occur from development in 2D environments to development in 3D environments. Therefore more capable hardware and more advanced software will be required (with some even being prototyped already) to meet these demands. However, to bridge the gap and to discover insights for hardware design, is there a means of **utilizing current 2D hardware and software techniques to devise solutions for the 3D realm**?\n",
    "\n",
    "---\n",
    "\n",
    "## Goals\n",
    "* Gather image(s) of an object (from anywhere) and identify its silhouette\n",
    "* Take these understood images and map it into a model representation\n",
    "* Translate this model representation into a 3D environment\n",
    "\n",
    "---\n",
    "\n",
    "## Technical Challenges\n",
    "### Computer Vision\n",
    "#### Image Processing\n",
    "* Colorspaces - viewing the same image in different colorspaces can allow greater capability of finding gradients\n",
    "* Perspective transforms - can help to standardize image orientation for more accurate image recognition\n",
    "* Gradient masks - gradients can vary dramatically with environment discrepancies\n",
    "\n",
    "#### Machine Learning\n",
    "* ConvNN to filter out a silhouette - depends on how one plans to use image recognition in this pipeline\n",
    "* Predicting light source orientations?\n",
    "\n",
    "#### Calibration (locusts into lines)\n",
    "* Defining interesting points (2D) - derive from gradients; refine based on image traits (lighting, quality)\n",
    "* Conversion of locusts into lines (2D) - polynomials \n",
    "\n",
    "### Modeling\n",
    "#### Aligning contours\n",
    "* Joining lines into 3D space based on reference points \n",
    "* Probably needs something more reliable than ConvNN on unknown unknowns. Maybe known reference tags to tape on (or a box frame)\n",
    "* Recognizing missing contours\n",
    "\n",
    "#### Physics\n",
    "* TBD\n",
    "\n",
    "---\n",
    "\n",
    "## Pipeline\n",
    "### Setting up images\n",
    "* Upload a few samples of an image set (for the same object)\n",
    "* Camera calibration\n",
    "\n",
    "### Preprocessing\n",
    "* Colorspaces: RGB, HSV/HLS, YUV/YCbCr, LAB\n",
    "* Perspective warping: translate, rotate, zoom, perspective\n",
    "* Equalization and filtering (based on assumptions or known aspects of environment)\n",
    "\n",
    "### Silhouette detection\n",
    "* HOG gradients\n",
    "* Sobel mask\n",
    "* Refining locusts\n",
    "* NOTE: can allow user input to potentially improve accuracy of pinpointing object\n",
    "\n",
    "### Defining Contours\n",
    "* Identifying reference points (inflection points are likeliest candidates)\n",
    "* Trying various polynomials (pre-determined set of polynomial orders)\n",
    "* We can assume that contours must be a closed shape\n",
    "* NOTE: if using user defined silhouette, there is potential to enhance contour definitions with a Gaussian kernel\n",
    "\n",
    "### Defining Model\n",
    "* Identifying reference points (may require ConvNN on HOG features to match points)\n",
    "* NOTE: this aspect is where a pre-defined reference box frame would help tremendously with consistency. Can maybe even have a virtually defined box that uses camera triaxial accelerometers to retain reference points on phone when taking pictures\n",
    "* Capturing data and defining at highest possible resolution\n",
    "\n",
    "### Setting up model\n",
    "* Convert generated file format into new format\n",
    "* NOTE: Game environments (Unity, Unreal Engine) and CAD (Solidworks, AutoCAD, etc.)\n",
    "\n",
    "---\n",
    "\n",
    "## Milestones and Progress notes\n",
    "### Identify object silhouette - IN PROGRESS\n",
    "### Define contour equations (2D) - IN PROGRESS\n",
    "### Map contours into model (3D) - IN PROGRESS\n",
    "### Convert into modeling environment - IN PROGRESS\n"
   ]
  },
  {
   "cell_type": "code",
   "execution_count": 6,
   "metadata": {},
   "outputs": [],
   "source": [
    "# Import libraries\n",
    "import cv2\n",
    "import math\n",
    "import matplotlib as plt\n",
    "import numpy as np\n",
    "import os\n",
    "import pickle\n",
    "#from PIL import Image               ## need to install\n",
    "import random\n",
    "#from skimage import color, exposure ## need to install\n",
    "#import tensorflow as tf             ## need to install\n",
    "from textwrap import wrap\n",
    "import time\n",
    "\n",
    "%matplotlib inline"
   ]
  },
  {
   "cell_type": "code",
   "execution_count": null,
   "metadata": {
    "collapsed": true
   },
   "outputs": [],
   "source": []
  }
 ],
 "metadata": {
  "kernelspec": {
   "display_name": "Python [default]",
   "language": "python",
   "name": "python3"
  },
  "language_info": {
   "codemirror_mode": {
    "name": "ipython",
    "version": 3
   },
   "file_extension": ".py",
   "mimetype": "text/x-python",
   "name": "python",
   "nbconvert_exporter": "python",
   "pygments_lexer": "ipython3",
   "version": "3.6.1"
  }
 },
 "nbformat": 4,
 "nbformat_minor": 2
}
