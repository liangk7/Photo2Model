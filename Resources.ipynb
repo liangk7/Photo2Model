{
 "cells": [
  {
   "cell_type": "markdown",
   "metadata": {},
   "source": [
    "# PIPELINE RESOURCES"
   ]
  },
  {
   "cell_type": "markdown",
   "metadata": {},
   "source": [
    "## Computer vision\n",
    "\n",
    "### Edge Detection\n",
    "**Detecting & Using Object Boundaries**\n",
    "\n",
    "http://www.cs.cmu.edu/~stein/publications.html\n",
    "\n",
    "http://www.cs.cmu.edu/~stein/nsf_webpage/\n",
    "\n",
    "* Martial Hebert - Principal Investigator\n",
    "* Andrew Stein - PhD Student\n",
    "* Marius Leordeanu - PhD Student\n",
    "\n",
    "**Topics**\n",
    "* Boundary Detection\n",
    "* Using Boundaries for Segmentation & Detection\n",
    "* Recognition\n"
   ]
  }
 ],
 "metadata": {
  "kernelspec": {
   "display_name": "Python [default]",
   "language": "python",
   "name": "python3"
  },
  "language_info": {
   "codemirror_mode": {
    "name": "ipython",
    "version": 3
   },
   "file_extension": ".py",
   "mimetype": "text/x-python",
   "name": "python",
   "nbconvert_exporter": "python",
   "pygments_lexer": "ipython3",
   "version": "3.6.1"
  }
 },
 "nbformat": 4,
 "nbformat_minor": 2
}
