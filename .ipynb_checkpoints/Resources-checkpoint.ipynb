{
 "cells": [
  {
   "cell_type": "markdown",
   "metadata": {},
   "source": [
    "# PIPELINE RESOURCES"
   ]
  },
  {
   "cell_type": "markdown",
   "metadata": {},
   "source": [
    "## Computer vision\n",
    "---\n",
    "\n",
    "### Edge Detection\n",
    "**(*DATE UNKNOWN*) Detecting & Using Object Boundaries**\n",
    "\n",
    "http://www.cs.cmu.edu/~stein/publications.html\n",
    "\n",
    "http://www.cs.cmu.edu/~stein/nsf_webpage/\n",
    "\n",
    "* Martial Hebert - Principal Investigator\n",
    "* Andrew Stein - PhD Student\n",
    "* Marius Leordeanu - PhD Student\n",
    "\n",
    "**Topics**\n",
    "* Boundary Detection\n",
    "* Using Boundaries for Segmentation & Detection\n",
    "* Recognition\n",
    "---\n",
    "\n",
    "### Occlusion\n",
    "**(2015) Occlusion Detection and Handling: A Review**\n",
    "\n",
    "https://pdfs.semanticscholar.org/ce76/eca9f5999246964df3d5a9f741b80982c44b.pdf\n",
    "\n",
    "* Himanshu Chandel\n",
    "* Sonia Vatta\n",
    "\n",
    "**Topics**\n",
    "* Cars in Streets\n",
    "* Pedestrians\n",
    "* Real World Scenes\n",
    "* Miscellaneous\n",
    "---"
   ]
  }
 ],
 "metadata": {
  "kernelspec": {
   "display_name": "Python [default]",
   "language": "python",
   "name": "python3"
  },
  "language_info": {
   "codemirror_mode": {
    "name": "ipython",
    "version": 3
   },
   "file_extension": ".py",
   "mimetype": "text/x-python",
   "name": "python",
   "nbconvert_exporter": "python",
   "pygments_lexer": "ipython3",
   "version": "3.6.1"
  }
 },
 "nbformat": 4,
 "nbformat_minor": 2
}
