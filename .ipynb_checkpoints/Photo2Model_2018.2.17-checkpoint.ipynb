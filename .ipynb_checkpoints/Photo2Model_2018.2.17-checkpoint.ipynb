{
 "cells": [
  {
   "cell_type": "markdown",
   "metadata": {},
   "source": [
    "# Photo 2 Model Project"
   ]
  },
  {
   "cell_type": "markdown",
   "metadata": {},
   "source": [
    "## Motivation\n",
    "With the development of the digital age, an abundance of media in a 2D form have arose (writing, images, videos, etc). But as society progresses further into fields of AI and VR, a massive shift will occur from development in 2D environments to development in 3D environments. Therefore more capable hardware and more advanced software will be required (with some even being prototyped already) to meet these demands. However, to bridge the gap and to discover insights for hardware design, is there a means of **utilizing current 2D hardware and software techniques to devise solutions for the 3D realm**?\n",
    "\n",
    "## Goals\n",
    "* Gather image(s) of an object (from anywhere) and identify its silhouette\n",
    "* Take these understood images and map it into a model representation\n",
    "* Translate this model representation into a 3D environment\n",
    "---\n",
    "\n",
    "## Technical Challenges\n",
    "### Computer Vision\n",
    "#### Image Processing\n",
    "* Colorspaces\n",
    "* Perspective transforms\n",
    "* Gradient masks\n",
    "\n",
    "#### Machine Learning\n",
    "* ConvNN to filter out a silhouette\n",
    "* Predicting light source orientations?\n",
    "\n",
    "#### Calibration (locusts into lines)\n",
    "* Defining interesting points (2D)\n",
    "* Conversion of locusts into lines (2D)\n",
    "\n",
    "### Modeling\n",
    "#### Aligning contours\n",
    "* Joining lines into 3D space based on reference points \n",
    "Probably needs something more reliable than ConvNN on unknown unknowns. Maybe known reference tags to tape on (or a box frame)\n",
    "* Recognizing missing contours\n",
    "\n",
    "#### Physics\n",
    "* TBD\n",
    "---\n",
    "\n",
    "## Pipeline\n",
    "### Gather images\n",
    "* Upload a few samples of an image set\n",
    "* Camera calibration\n",
    "\n",
    "### Preprocessing\n",
    "* Colorspaces: RGB, HSV/HLS, YUV/YCbCr, LAB\n",
    "* Perspective warping: translate, rotate, zoom, perspective\n",
    "\n",
    "### \n"
   ]
  },
  {
   "cell_type": "code",
   "execution_count": null,
   "metadata": {
    "collapsed": true
   },
   "outputs": [],
   "source": [
    "# Import libraries\n"
   ]
  }
 ],
 "metadata": {
  "kernelspec": {
   "display_name": "Python [default]",
   "language": "python",
   "name": "python3"
  },
  "language_info": {
   "codemirror_mode": {
    "name": "ipython",
    "version": 3
   },
   "file_extension": ".py",
   "mimetype": "text/x-python",
   "name": "python",
   "nbconvert_exporter": "python",
   "pygments_lexer": "ipython3",
   "version": "3.6.1"
  }
 },
 "nbformat": 4,
 "nbformat_minor": 2
}
